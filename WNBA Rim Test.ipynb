{
 "cells": [
  {
   "cell_type": "code",
   "execution_count": 58,
   "metadata": {},
   "outputs": [],
   "source": [
    "import requests\n",
    "import urllib.request\n",
    "import time\n",
    "from bs4 import BeautifulSoup\n",
    "import re\n",
    "import pandas as pd\n",
    "import scipy.stats as stats\n",
    "import matplotlib.pyplot as plt\n",
    "import seaborn as sns\n"
   ]
  },
  {
   "cell_type": "code",
   "execution_count": 59,
   "metadata": {},
   "outputs": [],
   "source": [
    "url = 'https://en.wikipedia.org/wiki/List_of_current_WNBA_team_rosters'"
   ]
  },
  {
   "cell_type": "code",
   "execution_count": 60,
   "metadata": {},
   "outputs": [],
   "source": [
    "url = 'https://en.wikipedia.org/wiki/List_of_current_WNBA_team_rosters'\n",
    "\n",
    "response = requests.get(url)\n",
    "\n",
    "soup = BeautifulSoup(response.text,'html.parser')\n",
    "\n",
    "test = soup.findAll('td')\n",
    "\n",
    "WNBA = []\n",
    "for x in test:\n",
    "    WNBA.append(str(x))"
   ]
  },
  {
   "cell_type": "code",
   "execution_count": 61,
   "metadata": {},
   "outputs": [],
   "source": [
    "WNBA = []\n",
    "for x in test:\n",
    "    WNBA.append(str(x))"
   ]
  },
  {
   "cell_type": "code",
   "execution_count": 62,
   "metadata": {},
   "outputs": [],
   "source": [
    "string = '<td style=\"text-align:right; white-space:nowrap;\"><span data-sort-value'"
   ]
  },
  {
   "cell_type": "code",
   "execution_count": 63,
   "metadata": {},
   "outputs": [],
   "source": [
    "heights = [s for s in WNBA if '<td style=\"text-align:right; white-space:nowrap;\"><span data-sort-value' in s]"
   ]
  },
  {
   "cell_type": "code",
   "execution_count": 64,
   "metadata": {},
   "outputs": [
    {
     "data": {
      "text/plain": [
       "'<td style=\"vertical-align:top;\">\\n<table class=\"sortable\" style=\"background:transparent; margin:0px; width:100%;\">\\n<tbody><tr>\\n<th>Pos.</th>\\n<th>#</th>\\n<th>Nat.</th>\\n<th>Name</th>\\n<th class=\"unsortable\"></th>\\n<th class=\"unsortable\"></th>\\n<th>Height</th>\\n<th class=\"unsortable\"></th>\\n<th>Weight</th>\\n<th class=\"unsortable\"></th>\\n<th class=\"unsortable\"></th>\\n<th><abbr title=\"Date of Birth\">DOB</abbr></th>\\n<th class=\"unsortable\"></th>\\n<th class=\"unsortable\"></th>\\n<th>From</th>\\n<th>Yrs\\n</th></tr>\\n<tr>\\n<td style=\"text-align:center;\"><span data-sort-value=\"1.5\\xa0!\"><a class=\"mw-redirect\" href=\"/wiki/Guard_(basketball)\" title=\"Guard (basketball)\">G</a></span>\\n</td>\\n<td style=\"text-align:center;\">20\\n</td>\\n<td style=\"text-align:center;\"><span data-sort-value=\"USA\\xa0!\"><span class=\"flagicon\"><a href=\"/wiki/United_States\" title=\"United States\"><img alt=\"United States\" class=\"thumbborder\" data-file-height=\"650\" data-file-width=\"1235\" decoding=\"async\" height=\"12\" src=\"//upload.wikimedia.org/wikipedia/en/thumb/a/a4/Flag_of_the_United_States.svg/23px-Flag_of_the_United_States.svg.png\" srcset=\"//upload.wikimedia.org/wikipedia/en/thumb/a/a4/Flag_of_the_United_States.svg/35px-Flag_of_the_United_States.svg.png 1.5x, //upload.wikimedia.org/wikipedia/en/thumb/a/a4/Flag_of_the_United_States.svg/46px-Flag_of_the_United_States.svg.png 2x\" width=\"23\"/></a></span></span>\\n</td>\\n<td style=\"text-align:left;\"><a href=\"/wiki/Alex_Bentley\" title=\"Alex Bentley\">Bentley, Alex</a>\\n</td>\\n<td>\\n</td>\\n<td>\\n</td>\\n<td style=\"text-align:right; white-space:nowrap;\"><span data-sort-value=\"67\\xa0!\">5\\' 7\"</span> (1.7m)\\n</td>\\n<td>\\n</td>\\n<td style=\"text-align:right; white-space:nowrap;\">152 lb (69kg)\\n</td>\\n<td>\\n</td>\\n<td>\\n</td>\\n<td style=\"text-align:center;\">10-27-1990\\n</td>\\n<td>\\n</td>\\n<td>\\n</td>\\n<td style=\"text-align:left;\"><a href=\"/wiki/Pennsylvania_State_University\" title=\"Pennsylvania State University\">Penn State</a>\\n</td>\\n<td style=\"text-align:center;\"><span data-sort-value=\"3.5\\xa0!\">6</span>\\n</td></tr>\\n<tr>\\n<td style=\"text-align:center;\"><span data-sort-value=\"4.0\\xa0!\"><a class=\"mw-redirect\" href=\"/wiki/Forward_(basketball)\" title=\"Forward (basketball)\">F</a></span>\\n</td>\\n<td style=\"text-align:center;\">25\\n</td>\\n<td style=\"text-align:center;\"><span data-sort-value=\"USA\\xa0!\"><span class=\"flagicon\"><a href=\"/wiki/United_States\" title=\"United States\"><img alt=\"United States\" class=\"thumbborder\" data-file-height=\"650\" data-file-width=\"1235\" decoding=\"async\" height=\"12\" src=\"//upload.wikimedia.org/wikipedia/en/thumb/a/a4/Flag_of_the_United_States.svg/23px-Flag_of_the_United_States.svg.png\" srcset=\"//upload.wikimedia.org/wikipedia/en/thumb/a/a4/Flag_of_the_United_States.svg/35px-Flag_of_the_United_States.svg.png 1.5x, //upload.wikimedia.org/wikipedia/en/thumb/a/a4/Flag_of_the_United_States.svg/46px-Flag_of_the_United_States.svg.png 2x\" width=\"23\"/></a></span></span>\\n</td>\\n<td style=\"text-align:left;\"><a href=\"/wiki/Monique_Billings\" title=\"Monique Billings\">Billings, Monique</a>\\n</td>\\n<td>\\n</td>\\n<td>\\n</td>\\n<td style=\"text-align:right; white-space:nowrap;\"><span data-sort-value=\"76\\xa0!\">6\\' 4\"</span> (1.93m)\\n</td>\\n<td>\\n</td>\\n<td style=\"text-align:right; white-space:nowrap;\">185 lb (84kg)\\n</td>\\n<td>\\n</td>\\n<td>\\n</td>\\n<td style=\"text-align:center;\">05-02-1996\\n</td>\\n<td>\\n</td>\\n<td>\\n</td>\\n<td style=\"text-align:left;\"><a href=\"/wiki/University_of_California,_Los_Angeles\" title=\"University of California, Los Angeles\">UCLA</a>\\n</td>\\n<td style=\"text-align:center;\"><span data-sort-value=\"1.0\\xa0!\">1</span>\\n</td></tr>\\n<tr>\\n<td style=\"text-align:center;\"><span data-sort-value=\"4.0\\xa0!\"><a class=\"mw-redirect\" href=\"/wiki/Forward_(basketball)\" title=\"Forward (basketball)\">F</a></span>\\n</td>\\n<td style=\"text-align:center;\">51\\n</td>\\n<td style=\"text-align:center;\"><span data-sort-value=\"USA\\xa0!\"><span class=\"flagicon\"><a href=\"/wiki/United_States\" title=\"United States\"><img alt=\"United States\" class=\"thumbborder\" data-file-height=\"650\" data-file-width=\"1235\" decoding=\"async\" height=\"12\" src=\"//upload.wikimedia.org/wikipedia/en/thumb/a/a4/Flag_of_the_United_States.svg/23px-Flag_of_the_United_States.svg.png\" srcset=\"//upload.wikimedia.org/wikipedia/en/thumb/a/a4/Flag_of_the_United_States.svg/35px-Flag_of_the_United_States.svg.png 1.5x, //upload.wikimedia.org/wikipedia/en/thumb/a/a4/Flag_of_the_United_States.svg/46px-Flag_of_the_United_States.svg.png 2x\" width=\"23\"/></a></span></span>\\n</td>\\n<td style=\"text-align:left;\"><a href=\"/wiki/Jessica_Breland\" title=\"Jessica Breland\">Breland, Jessica</a>\\n</td>\\n<td>\\n</td>\\n<td>\\n</td>\\n<td style=\"text-align:right; white-space:nowrap;\"><span data-sort-value=\"74\\xa0!\">6\\' 2\"</span> (1.88m)\\n</td>\\n<td>\\n</td>\\n<td style=\"text-align:right; white-space:nowrap;\">166 lb (75kg)\\n</td>\\n<td>\\n</td>\\n<td>\\n</td>\\n<td style=\"text-align:center;\">02-23-1988\\n</td>\\n<td>\\n</td>\\n<td>\\n</td>\\n<td style=\"text-align:left;\"><a href=\"/wiki/University_of_North_Carolina_at_Chapel_Hill\" title=\"University of North Carolina at Chapel Hill\">North Carolina</a>\\n</td>\\n<td style=\"text-align:center;\"><span data-sort-value=\"4.0\\xa0!\">7</span>\\n</td></tr>\\n<tr>\\n<td style=\"text-align:center;\"><span data-sort-value=\"1.5\\xa0!\"><a class=\"mw-redirect\" href=\"/wiki/Guard_(basketball)\" title=\"Guard (basketball)\">G</a></span>\\n</td>\\n<td style=\"text-align:center;\">5\\n</td>\\n<td style=\"text-align:center;\"><span data-sort-value=\"ESP\\xa0!\"><span class=\"flagicon\"><a href=\"/wiki/Spain\" title=\"Spain\"><img alt=\"Spain\" class=\"thumbborder\" data-file-height=\"500\" data-file-width=\"750\" decoding=\"async\" height=\"15\" src=\"//upload.wikimedia.org/wikipedia/en/thumb/9/9a/Flag_of_Spain.svg/23px-Flag_of_Spain.svg.png\" srcset=\"//upload.wikimedia.org/wikipedia/en/thumb/9/9a/Flag_of_Spain.svg/35px-Flag_of_Spain.svg.png 1.5x, //upload.wikimedia.org/wikipedia/en/thumb/9/9a/Flag_of_Spain.svg/45px-Flag_of_Spain.svg.png 2x\" width=\"23\"/></a></span></span>\\n</td>\\n<td style=\"text-align:left;\"><a href=\"/wiki/Maite_Cazorla\" title=\"Maite Cazorla\">Cazorla, Maite</a>\\n</td>\\n<td>\\n</td>\\n<td>\\n</td>\\n<td style=\"text-align:right; white-space:nowrap;\"><span data-sort-value=\"70\\xa0!\">5\\' 10\"</span> (1.78m)\\n</td>\\n<td>\\n</td>\\n<td style=\"text-align:right; white-space:nowrap;\">155 lb (70kg)\\n</td>\\n<td>\\n</td>\\n<td>\\n</td>\\n<td style=\"text-align:center;\">6-18-1997\\n</td>\\n<td>\\n</td>\\n<td>\\n</td>\\n<td style=\"text-align:left;\"><a href=\"/wiki/University_of_Oregon\" title=\"University of Oregon\">Oregon</a>\\n</td>\\n<td style=\"text-align:center;\"><span data-sort-value=\"0.5\\xa0!\">R</span>\\n</td></tr>\\n<tr>\\n<td style=\"text-align:center;\"><span data-sort-value=\"4.0\\xa0!\"><a class=\"mw-redirect\" href=\"/wiki/Forward_(basketball)\" title=\"Forward (basketball)\">F</a></span>\\n</td>\\n<td style=\"text-align:center;\">10\\n</td>\\n<td style=\"text-align:center;\"><span data-sort-value=\"USA\\xa0!\"><span class=\"flagicon\"><a href=\"/wiki/United_States\" title=\"United States\"><img alt=\"United States\" class=\"thumbborder\" data-file-height=\"650\" data-file-width=\"1235\" decoding=\"async\" height=\"12\" src=\"//upload.wikimedia.org/wikipedia/en/thumb/a/a4/Flag_of_the_United_States.svg/23px-Flag_of_the_United_States.svg.png\" srcset=\"//upload.wikimedia.org/wikipedia/en/thumb/a/a4/Flag_of_the_United_States.svg/35px-Flag_of_the_United_States.svg.png 1.5x, //upload.wikimedia.org/wikipedia/en/thumb/a/a4/Flag_of_the_United_States.svg/46px-Flag_of_the_United_States.svg.png 2x\" width=\"23\"/></a></span></span>\\n</td>\\n<td style=\"text-align:left;\"><a href=\"/wiki/Nia_Coffey\" title=\"Nia Coffey\">Coffey, Nia</a>\\n</td>\\n<td>\\n</td>\\n<td>\\n</td>\\n<td style=\"text-align:right; white-space:nowrap;\"><span data-sort-value=\"70\\xa0!\">5\\' 10\"</span> (1.78m)\\n</td>\\n<td>\\n</td>\\n<td style=\"text-align:right; white-space:nowrap;\">182 lb (83kg)\\n</td>\\n<td>\\n</td>\\n<td>\\n</td>\\n<td style=\"text-align:center;\">06-11-1993\\n</td>\\n<td>\\n</td>\\n<td>\\n</td>\\n<td style=\"text-align:left;\"><a href=\"/wiki/Northwestern_University\" title=\"Northwestern University\">Northwestern</a>\\n</td>\\n<td style=\"text-align:center;\"><span data-sort-value=\"1.5\\xa0!\">2</span>\\n</td></tr>\\n<tr>\\n<td style=\"text-align:center;\"><span data-sort-value=\"6.0\\xa0!\"><a href=\"/wiki/Center_(basketball)\" title=\"Center (basketball)\">C</a></span>\\n</td>\\n<td style=\"text-align:center;\">24\\n</td>\\n<td style=\"text-align:center;\"><span data-sort-value=\"GER\\xa0!\"><span class=\"flagicon\"><a href=\"/wiki/Germany\" title=\"Germany\"><img alt=\"Germany\" class=\"thumbborder\" data-file-height=\"600\" data-file-width=\"1000\" decoding=\"async\" height=\"14\" src=\"//upload.wikimedia.org/wikipedia/en/thumb/b/ba/Flag_of_Germany.svg/23px-Flag_of_Germany.svg.png\" srcset=\"//upload.wikimedia.org/wikipedia/en/thumb/b/ba/Flag_of_Germany.svg/35px-Flag_of_Germany.svg.png 1.5x, //upload.wikimedia.org/wikipedia/en/thumb/b/ba/Flag_of_Germany.svg/46px-Flag_of_Germany.svg.png 2x\" width=\"23\"/></a></span></span>\\n</td>\\n<td style=\"text-align:left;\"><a href=\"/wiki/Marie_G%C3%BClich\" title=\"Marie Gülich\">Gülich, Marie</a>\\n</td>\\n<td>\\n</td>\\n<td>\\n</td>\\n<td style=\"text-align:right; white-space:nowrap;\"><span data-sort-value=\"77\\xa0!\">6\\' 5\"</span> (1.96m)\\n</td>\\n<td>\\n</td>\\n<td style=\"text-align:right; white-space:nowrap;\">205 lb (93kg)\\n</td>\\n<td>\\n</td>\\n<td>\\n</td>\\n<td style=\"text-align:center;\">05-28-1994\\n</td>\\n<td>\\n</td>\\n<td>\\n</td>\\n<td style=\"text-align:left;\"><a href=\"/wiki/Oregon_State_University\" title=\"Oregon State University\">Oregon State</a>\\n</td>\\n<td style=\"text-align:center;\"><span data-sort-value=\"1.0\\xa0!\">1</span>\\n</td></tr>\\n<tr>\\n<td style=\"text-align:center;\"><span data-sort-value=\"1.5\\xa0!\"><a class=\"mw-redirect\" href=\"/wiki/Guard_(basketball)\" title=\"Guard (basketball)\">G</a></span>\\n</td>\\n<td style=\"text-align:center;\">15\\n</td>\\n<td style=\"text-align:center;\"><span data-sort-value=\"USA\\xa0!\"><span class=\"flagicon\"><a href=\"/wiki/United_States\" title=\"United States\"><img alt=\"United States\" class=\"thumbborder\" data-file-height=\"650\" data-file-width=\"1235\" decoding=\"async\" height=\"12\" src=\"//upload.wikimedia.org/wikipedia/en/thumb/a/a4/Flag_of_the_United_States.svg/23px-Flag_of_the_United_States.svg.png\" srcset=\"//upload.wikimedia.org/wikipedia/en/thumb/a/a4/Flag_of_the_United_States.svg/35px-Flag_of_the_United_States.svg.png 1.5x, //upload.wikimedia.org/wikipedia/en/thumb/a/a4/Flag_of_the_United_States.svg/46px-Flag_of_the_United_States.svg.png 2x\" width=\"23\"/></a></span></span>\\n</td>\\n<td style=\"text-align:left;\"><a href=\"/wiki/Tiffany_Hayes\" title=\"Tiffany Hayes\">Hayes, Tiffany</a>\\n</td>\\n<td>\\n</td>\\n<td>\\n</td>\\n<td style=\"text-align:right; white-space:nowrap;\"><span data-sort-value=\"70\\xa0!\">5\\' 10\"</span> (1.78m)\\n</td>\\n<td>\\n</td>\\n<td style=\"text-align:right; white-space:nowrap;\">155 lb (70kg)\\n</td>\\n<td>\\n</td>\\n<td>\\n</td>\\n<td style=\"text-align:center;\">09-20-1989\\n</td>\\n<td>\\n</td>\\n<td>\\n</td>\\n<td style=\"text-align:left;\"><a href=\"/wiki/University_of_Connecticut\" title=\"University of Connecticut\">Connecticut</a>\\n</td>\\n<td style=\"text-align:center;\"><span data-sort-value=\"4.0\\xa0!\">7</span>\\n</td></tr>\\n<tr>\\n<td style=\"text-align:center;\"><span data-sort-value=\"1.5\\xa0!\"><a class=\"mw-redirect\" href=\"/wiki/Guard_(basketball)\" title=\"Guard (basketball)\">G</a></span>\\n</td>\\n<td style=\"text-align:center;\">2\\n</td>\\n<td style=\"text-align:center;\"><span data-sort-value=\"USA\\xa0!\"><span class=\"flagicon\"><a href=\"/wiki/United_States\" title=\"United States\"><img alt=\"United States\" class=\"thumbborder\" data-file-height=\"650\" data-file-width=\"1235\" decoding=\"async\" height=\"12\" src=\"//upload.wikimedia.org/wikipedia/en/thumb/a/a4/Flag_of_the_United_States.svg/23px-Flag_of_the_United_States.svg.png\" srcset=\"//upload.wikimedia.org/wikipedia/en/thumb/a/a4/Flag_of_the_United_States.svg/35px-Flag_of_the_United_States.svg.png 1.5x, //upload.wikimedia.org/wikipedia/en/thumb/a/a4/Flag_of_the_United_States.svg/46px-Flag_of_the_United_States.svg.png 2x\" width=\"23\"/></a></span></span>\\n</td>\\n<td style=\"text-align:left;\"><a href=\"/wiki/Natisha_Hiedeman\" title=\"Natisha Hiedeman\">Hiedeman, Natisha</a>\\n</td>\\n<td>\\n</td>\\n<td>\\n</td>\\n<td style=\"text-align:right; white-space:nowrap;\"><span data-sort-value=\"67\\xa0!\">5\\' 7\"</span> (1.7m)\\n</td>\\n<td>\\n</td>\\n<td style=\"text-align:right; white-space:nowrap;\">125 lb (57kg)\\n</td>\\n<td>\\n</td>\\n<td>\\n</td>\\n<td style=\"text-align:center;\">02-10-1997\\n</td>\\n<td>\\n</td>\\n<td>\\n</td>\\n<td style=\"text-align:left;\"><a href=\"/wiki/Marquette_University\" title=\"Marquette University\">Marquette</a>\\n</td>\\n<td style=\"text-align:center;\"><span data-sort-value=\"0.5\\xa0!\">R</span>\\n</td></tr>\\n<tr>\\n<td style=\"text-align:center;\"><span data-sort-value=\"2.5\\xa0!\"><a href=\"/wiki/Swingman\" title=\"Swingman\">G/F</a></span>\\n</td>\\n<td style=\"text-align:center;\">35\\n</td>\\n<td style=\"text-align:center;\"><span data-sort-value=\"USA\\xa0!\"><span class=\"flagicon\"><a href=\"/wiki/United_States\" title=\"United States\"><img alt=\"United States\" class=\"thumbborder\" data-file-height=\"650\" data-file-width=\"1235\" decoding=\"async\" height=\"12\" src=\"//upload.wikimedia.org/wikipedia/en/thumb/a/a4/Flag_of_the_United_States.svg/23px-Flag_of_the_United_States.svg.png\" srcset=\"//upload.wikimedia.org/wikipedia/en/thumb/a/a4/Flag_of_the_United_States.svg/35px-Flag_of_the_United_States.svg.png 1.5x, //upload.wikimedia.org/wikipedia/en/thumb/a/a4/Flag_of_the_United_States.svg/46px-Flag_of_the_United_States.svg.png 2x\" width=\"23\"/></a></span></span>\\n</td>\\n<td style=\"text-align:left;\"><a href=\"/wiki/Angel_McCoughtry\" title=\"Angel McCoughtry\">McCoughtry, Angel</a>\\xa0<a class=\"image\" href=\"/wiki/File:Cruz_Roja.svg\" title=\"Injured\"><img alt=\"Injured\" data-file-height=\"62\" data-file-width=\"62\" decoding=\"async\" height=\"8\" src=\"//upload.wikimedia.org/wikipedia/commons/thumb/0/03/Cruz_Roja.svg/8px-Cruz_Roja.svg.png\" srcset=\"//upload.wikimedia.org/wikipedia/commons/thumb/0/03/Cruz_Roja.svg/12px-Cruz_Roja.svg.png 1.5x, //upload.wikimedia.org/wikipedia/commons/thumb/0/03/Cruz_Roja.svg/16px-Cruz_Roja.svg.png 2x\" width=\"8\"/></a>\\n</td>\\n<td>\\n</td>\\n<td>\\n</td>\\n<td style=\"text-align:right; white-space:nowrap;\"><span data-sort-value=\"73\\xa0!\">6\\' 1\"</span> (1.85m)\\n</td>\\n<td>\\n</td>\\n<td style=\"text-align:right; white-space:nowrap;\">173 lb (78kg)\\n</td>\\n<td>\\n</td>\\n<td>\\n</td>\\n<td style=\"text-align:center;\">07-10-1986\\n</td>\\n<td>\\n</td>\\n<td>\\n</td>\\n<td style=\"text-align:left;\"><a href=\"/wiki/University_of_Louisville\" title=\"University of Louisville\">Louisville</a>\\n</td>\\n<td style=\"text-align:center;\"><span data-sort-value=\"5.0\\xa0!\">9</span>\\n</td></tr>\\n<tr>\\n<td style=\"text-align:center;\"><span data-sort-value=\"1.5\\xa0!\"><a class=\"mw-redirect\" href=\"/wiki/Guard_(basketball)\" title=\"Guard (basketball)\">G</a></span>\\n</td>\\n<td style=\"text-align:center;\">21\\n</td>\\n<td style=\"text-align:center;\"><span data-sort-value=\"USA\\xa0!\"><span class=\"flagicon\"><a href=\"/wiki/United_States\" title=\"United States\"><img alt=\"United States\" class=\"thumbborder\" data-file-height=\"650\" data-file-width=\"1235\" decoding=\"async\" height=\"12\" src=\"//upload.wikimedia.org/wikipedia/en/thumb/a/a4/Flag_of_the_United_States.svg/23px-Flag_of_the_United_States.svg.png\" srcset=\"//upload.wikimedia.org/wikipedia/en/thumb/a/a4/Flag_of_the_United_States.svg/35px-Flag_of_the_United_States.svg.png 1.5x, //upload.wikimedia.org/wikipedia/en/thumb/a/a4/Flag_of_the_United_States.svg/46px-Flag_of_the_United_States.svg.png 2x\" width=\"23\"/></a></span></span>\\n</td>\\n<td style=\"text-align:left;\"><a href=\"/wiki/Renee_Montgomery\" title=\"Renee Montgomery\">Montgomery, Renee</a>\\n</td>\\n<td>\\n</td>\\n<td>\\n</td>\\n<td style=\"text-align:right; white-space:nowrap;\"><span data-sort-value=\"67\\xa0!\">5\\' 7\"</span> (1.7m)\\n</td>\\n<td>\\n</td>\\n<td style=\"text-align:right; white-space:nowrap;\">140 lb (64kg)\\n</td>\\n<td>\\n</td>\\n<td>\\n</td>\\n<td style=\"text-align:center;\">12-02-1986\\n</td>\\n<td>\\n</td>\\n<td>\\n</td>\\n<td style=\"text-align:left;\"><a href=\"/wiki/University_of_Connecticut\" title=\"University of Connecticut\">Connecticut</a>\\n</td>\\n<td style=\"text-align:center;\"><span data-sort-value=\"5.5\\xa0!\">10</span>\\n</td></tr>\\n<tr>\\n<td style=\"text-align:center;\"><span data-sort-value=\"4.0\\xa0!\"><a class=\"mw-redirect\" href=\"/wiki/Forward_(basketball)\" title=\"Forward (basketball)\">F</a></span>\\n</td>\\n<td style=\"text-align:center;\">17\\n</td>\\n<td style=\"text-align:center;\"><span data-sort-value=\"USA\\xa0!\"><span class=\"flagicon\"><a href=\"/wiki/United_States\" title=\"United States\"><img alt=\"United States\" class=\"thumbborder\" data-file-height=\"650\" data-file-width=\"1235\" decoding=\"async\" height=\"12\" src=\"//upload.wikimedia.org/wikipedia/en/thumb/a/a4/Flag_of_the_United_States.svg/23px-Flag_of_the_United_States.svg.png\" srcset=\"//upload.wikimedia.org/wikipedia/en/thumb/a/a4/Flag_of_the_United_States.svg/35px-Flag_of_the_United_States.svg.png 1.5x, //upload.wikimedia.org/wikipedia/en/thumb/a/a4/Flag_of_the_United_States.svg/46px-Flag_of_the_United_States.svg.png 2x\" width=\"23\"/></a></span></span>\\n</td>\\n<td style=\"text-align:left;\"><a class=\"new\" href=\"/w/index.php?title=Haley_Peters&amp;action=edit&amp;redlink=1\" title=\"Haley Peters (page does not exist)\">Peters, Haley</a>\\n</td>\\n<td>\\n</td>\\n<td>\\n</td>\\n<td style=\"text-align:right; white-space:nowrap;\"><span data-sort-value=\"75\\xa0!\">6\\' 3\"</span> (1.91m)\\n</td>\\n<td>\\n</td>\\n<td style=\"text-align:right; white-space:nowrap;\">178 lb (81kg)\\n</td>\\n<td>\\n</td>\\n<td>\\n</td>\\n<td style=\"text-align:center;\">09-17-1992\\n</td>\\n<td>\\n</td>\\n<td>\\n</td>\\n<td style=\"text-align:left;\"><a href=\"/wiki/Duke_University\" title=\"Duke University\">Duke</a>\\n</td>\\n<td style=\"text-align:center;\"><span data-sort-value=\"1.5\\xa0!\">2</span>\\n</td></tr>\\n<tr>\\n<td style=\"text-align:center;\"><span data-sort-value=\"1.5\\xa0!\"><a class=\"mw-redirect\" href=\"/wiki/Guard_(basketball)\" title=\"Guard (basketball)\">G</a></span>\\n</td>\\n<td style=\"text-align:center;\">7\\n</td>\\n<td style=\"text-align:center;\"><span data-sort-value=\"USA\\xa0!\"><span class=\"flagicon\"><a href=\"/wiki/United_States\" title=\"United States\"><img alt=\"United States\" class=\"thumbborder\" data-file-height=\"650\" data-file-width=\"1235\" decoding=\"async\" height=\"12\" src=\"//upload.wikimedia.org/wikipedia/en/thumb/a/a4/Flag_of_the_United_States.svg/23px-Flag_of_the_United_States.svg.png\" srcset=\"//upload.wikimedia.org/wikipedia/en/thumb/a/a4/Flag_of_the_United_States.svg/35px-Flag_of_the_United_States.svg.png 1.5x, //upload.wikimedia.org/wikipedia/en/thumb/a/a4/Flag_of_the_United_States.svg/46px-Flag_of_the_United_States.svg.png 2x\" width=\"23\"/></a></span></span>\\n</td>\\n<td style=\"text-align:left;\"><a href=\"/wiki/Brittney_Sykes\" title=\"Brittney Sykes\">Sykes, Brittney</a>\\n</td>\\n<td>\\n</td>\\n<td>\\n</td>\\n<td style=\"text-align:right; white-space:nowrap;\"><span data-sort-value=\"69\\xa0!\">5\\' 9\"</span> (1.75m)\\n</td>\\n<td>\\n</td>\\n<td style=\"text-align:right; white-space:nowrap;\">154 lb (70kg)\\n</td>\\n<td>\\n</td>\\n<td>\\n</td>\\n<td style=\"text-align:center;\">02-07-1994\\n</td>\\n<td>\\n</td>\\n<td>\\n</td>\\n<td style=\"text-align:left;\"><a href=\"/wiki/Syracuse_University\" title=\"Syracuse University\">Syracuse</a>\\n</td>\\n<td style=\"text-align:center;\"><span data-sort-value=\"1.5\\xa0!\">2</span>\\n</td></tr>\\n<tr>\\n<td style=\"text-align:center;\"><span data-sort-value=\"5.5\\xa0!\"><a href=\"/wiki/Forward-center\" title=\"Forward-center\">F/C</a></span>\\n</td>\\n<td style=\"text-align:center;\">1\\n</td>\\n<td style=\"text-align:center;\"><span data-sort-value=\"USA\\xa0!\"><span class=\"flagicon\"><a href=\"/wiki/United_States\" title=\"United States\"><img alt=\"United States\" class=\"thumbborder\" data-file-height=\"650\" data-file-width=\"1235\" decoding=\"async\" height=\"12\" src=\"//upload.wikimedia.org/wikipedia/en/thumb/a/a4/Flag_of_the_United_States.svg/23px-Flag_of_the_United_States.svg.png\" srcset=\"//upload.wikimedia.org/wikipedia/en/thumb/a/a4/Flag_of_the_United_States.svg/35px-Flag_of_the_United_States.svg.png 1.5x, //upload.wikimedia.org/wikipedia/en/thumb/a/a4/Flag_of_the_United_States.svg/46px-Flag_of_the_United_States.svg.png 2x\" width=\"23\"/></a></span></span>\\n</td>\\n<td style=\"text-align:left;\"><a href=\"/wiki/Elizabeth_Williams_(basketball)\" title=\"Elizabeth Williams (basketball)\">Williams, Elizabeth</a>\\n</td>\\n<td>\\n</td>\\n<td>\\n</td>\\n<td style=\"text-align:right; white-space:nowrap;\"><span data-sort-value=\"75\\xa0!\">6\\' 3\"</span> (1.91m)\\n</td>\\n<td>\\n</td>\\n<td style=\"text-align:right; white-space:nowrap;\">200 lb (91kg)\\n</td>\\n<td>\\n</td>\\n<td>\\n</td>\\n<td style=\"text-align:center;\">06-23-1993\\n</td>\\n<td>\\n</td>\\n<td>\\n</td>\\n<td style=\"text-align:left;\"><a href=\"/wiki/Duke_University\" title=\"Duke University\">Duke</a>\\n</td>\\n<td style=\"text-align:center;\"><span data-sort-value=\"2.5\\xa0!\">4</span>\\n</td></tr>\\n</tbody></table>\\n<p><br/>\\n<br/>\\n</p>\\n<table class=\"wikitable\" style=\"width:100%; height:25px; margin:0px; text-align:center; font-size:smaller;\">\\n<tbody><tr>\\n<td><b><a href=\"/wiki/Eastern_Conference_(WNBA)\" title=\"Eastern Conference (WNBA)\">East</a></b>: <a href=\"/wiki/Atlanta_Dream\" title=\"Atlanta Dream\">ATL</a> • <a href=\"/wiki/Chicago_Sky\" title=\"Chicago Sky\">CHI</a> • <a href=\"/wiki/Connecticut_Sun\" title=\"Connecticut Sun\">CON</a> • <a href=\"/wiki/Indiana_Fever\" title=\"Indiana Fever\">IND</a> • <a href=\"/wiki/New_York_Liberty\" title=\"New York Liberty\">NY</a> • <a href=\"/wiki/Washington_Mystics\" title=\"Washington Mystics\">WAS</a>  |  <b><a href=\"/wiki/Western_Conference_(WNBA)\" title=\"Western Conference (WNBA)\">West</a></b>: <a href=\"/wiki/Dallas_Wings\" title=\"Dallas Wings\">DAL</a> • <a href=\"/wiki/Las_Vegas_Aces\" title=\"Las Vegas Aces\">LV</a> • <a href=\"/wiki/Los_Angeles_Sparks\" title=\"Los Angeles Sparks\">LA</a> • <a href=\"/wiki/Minnesota_Lynx\" title=\"Minnesota Lynx\">MIN</a> • <a href=\"/wiki/Phoenix_Mercury\" title=\"Phoenix Mercury\">PHO</a> • <a href=\"/wiki/Seattle_Storm\" title=\"Seattle Storm\">SEA</a>\\n</td></tr></tbody></table>\\n</td>'"
      ]
     },
     "execution_count": 64,
     "metadata": {},
     "output_type": "execute_result"
    }
   ],
   "source": [
    "heights.pop(0)"
   ]
  },
  {
   "cell_type": "code",
   "execution_count": 65,
   "metadata": {},
   "outputs": [],
   "source": [
    "final_heights = [] \n",
    "for x in range(len(heights)):\n",
    "    y = re.findall(r'\\d.\\d+', heights[x])\n",
    "    final_heights.append(y)"
   ]
  },
  {
   "cell_type": "code",
   "execution_count": 66,
   "metadata": {},
   "outputs": [
    {
     "data": {
      "text/plain": [
       "list"
      ]
     },
     "execution_count": 66,
     "metadata": {},
     "output_type": "execute_result"
    }
   ],
   "source": [
    "type(final_heights[26])"
   ]
  },
  {
   "cell_type": "code",
   "execution_count": 67,
   "metadata": {},
   "outputs": [],
   "source": [
    "final_heights_numbers = []\n",
    "for x in range(len(final_heights)):\n",
    "    if type(final_heights[x]) == list:\n",
    "        y = float(final_heights[x][0])\n",
    "        final_heights_numbers.append(y)\n",
    "    else:\n",
    "        continue"
   ]
  },
  {
   "cell_type": "code",
   "execution_count": 68,
   "metadata": {},
   "outputs": [
    {
     "data": {
      "text/plain": [
       "[1.7, 1.93, 1.88, 1.78, 1.78]"
      ]
     },
     "execution_count": 68,
     "metadata": {},
     "output_type": "execute_result"
    }
   ],
   "source": [
    "final_heights_numbers[0:5]"
   ]
  },
  {
   "cell_type": "code",
   "execution_count": 69,
   "metadata": {},
   "outputs": [],
   "source": [
    "df = pd.DataFrame(final_heights_numbers)"
   ]
  },
  {
   "cell_type": "code",
   "execution_count": 70,
   "metadata": {},
   "outputs": [],
   "source": [
    "df = df.rename(index=str, columns = {0: 'Meters'})"
   ]
  },
  {
   "cell_type": "code",
   "execution_count": 71,
   "metadata": {},
   "outputs": [],
   "source": [
    "df['Inches'] = df['Meters']*39.3701"
   ]
  },
  {
   "cell_type": "code",
   "execution_count": 72,
   "metadata": {},
   "outputs": [],
   "source": [
    "df = df[df['Meters'] != 100]"
   ]
  },
  {
   "cell_type": "code",
   "execution_count": 73,
   "metadata": {},
   "outputs": [],
   "source": [
    "df = df[df.Meters != 100]"
   ]
  },
  {
   "cell_type": "code",
   "execution_count": 74,
   "metadata": {},
   "outputs": [
    {
     "data": {
      "text/html": [
       "<div>\n",
       "<style scoped>\n",
       "    .dataframe tbody tr th:only-of-type {\n",
       "        vertical-align: middle;\n",
       "    }\n",
       "\n",
       "    .dataframe tbody tr th {\n",
       "        vertical-align: top;\n",
       "    }\n",
       "\n",
       "    .dataframe thead th {\n",
       "        text-align: right;\n",
       "    }\n",
       "</style>\n",
       "<table border=\"1\" class=\"dataframe\">\n",
       "  <thead>\n",
       "    <tr style=\"text-align: right;\">\n",
       "      <th></th>\n",
       "      <th>Meters</th>\n",
       "      <th>Inches</th>\n",
       "    </tr>\n",
       "  </thead>\n",
       "  <tbody>\n",
       "    <tr>\n",
       "      <th>0</th>\n",
       "      <td>1.70</td>\n",
       "      <td>66.929170</td>\n",
       "    </tr>\n",
       "    <tr>\n",
       "      <th>1</th>\n",
       "      <td>1.93</td>\n",
       "      <td>75.984293</td>\n",
       "    </tr>\n",
       "    <tr>\n",
       "      <th>2</th>\n",
       "      <td>1.88</td>\n",
       "      <td>74.015788</td>\n",
       "    </tr>\n",
       "    <tr>\n",
       "      <th>3</th>\n",
       "      <td>1.78</td>\n",
       "      <td>70.078778</td>\n",
       "    </tr>\n",
       "    <tr>\n",
       "      <th>4</th>\n",
       "      <td>1.78</td>\n",
       "      <td>70.078778</td>\n",
       "    </tr>\n",
       "    <tr>\n",
       "      <th>5</th>\n",
       "      <td>1.96</td>\n",
       "      <td>77.165396</td>\n",
       "    </tr>\n",
       "    <tr>\n",
       "      <th>6</th>\n",
       "      <td>1.78</td>\n",
       "      <td>70.078778</td>\n",
       "    </tr>\n",
       "    <tr>\n",
       "      <th>7</th>\n",
       "      <td>1.70</td>\n",
       "      <td>66.929170</td>\n",
       "    </tr>\n",
       "    <tr>\n",
       "      <th>8</th>\n",
       "      <td>1.85</td>\n",
       "      <td>72.834685</td>\n",
       "    </tr>\n",
       "    <tr>\n",
       "      <th>9</th>\n",
       "      <td>1.70</td>\n",
       "      <td>66.929170</td>\n",
       "    </tr>\n",
       "    <tr>\n",
       "      <th>10</th>\n",
       "      <td>1.91</td>\n",
       "      <td>75.196891</td>\n",
       "    </tr>\n",
       "    <tr>\n",
       "      <th>11</th>\n",
       "      <td>1.75</td>\n",
       "      <td>68.897675</td>\n",
       "    </tr>\n",
       "    <tr>\n",
       "      <th>12</th>\n",
       "      <td>1.91</td>\n",
       "      <td>75.196891</td>\n",
       "    </tr>\n",
       "    <tr>\n",
       "      <th>14</th>\n",
       "      <td>1.85</td>\n",
       "      <td>72.834685</td>\n",
       "    </tr>\n",
       "    <tr>\n",
       "      <th>15</th>\n",
       "      <td>1.85</td>\n",
       "      <td>72.834685</td>\n",
       "    </tr>\n",
       "    <tr>\n",
       "      <th>16</th>\n",
       "      <td>1.96</td>\n",
       "      <td>77.165396</td>\n",
       "    </tr>\n",
       "    <tr>\n",
       "      <th>17</th>\n",
       "      <td>1.68</td>\n",
       "      <td>66.141768</td>\n",
       "    </tr>\n",
       "    <tr>\n",
       "      <th>18</th>\n",
       "      <td>1.73</td>\n",
       "      <td>68.110273</td>\n",
       "    </tr>\n",
       "    <tr>\n",
       "      <th>19</th>\n",
       "      <td>1.73</td>\n",
       "      <td>68.110273</td>\n",
       "    </tr>\n",
       "    <tr>\n",
       "      <th>20</th>\n",
       "      <td>1.93</td>\n",
       "      <td>75.984293</td>\n",
       "    </tr>\n",
       "    <tr>\n",
       "      <th>21</th>\n",
       "      <td>1.96</td>\n",
       "      <td>77.165396</td>\n",
       "    </tr>\n",
       "    <tr>\n",
       "      <th>22</th>\n",
       "      <td>1.93</td>\n",
       "      <td>75.984293</td>\n",
       "    </tr>\n",
       "    <tr>\n",
       "      <th>23</th>\n",
       "      <td>1.78</td>\n",
       "      <td>70.078778</td>\n",
       "    </tr>\n",
       "    <tr>\n",
       "      <th>24</th>\n",
       "      <td>1.73</td>\n",
       "      <td>68.110273</td>\n",
       "    </tr>\n",
       "    <tr>\n",
       "      <th>25</th>\n",
       "      <td>1.80</td>\n",
       "      <td>70.866180</td>\n",
       "    </tr>\n",
       "    <tr>\n",
       "      <th>27</th>\n",
       "      <td>1.93</td>\n",
       "      <td>75.984293</td>\n",
       "    </tr>\n",
       "    <tr>\n",
       "      <th>28</th>\n",
       "      <td>1.75</td>\n",
       "      <td>68.897675</td>\n",
       "    </tr>\n",
       "    <tr>\n",
       "      <th>29</th>\n",
       "      <td>1.85</td>\n",
       "      <td>72.834685</td>\n",
       "    </tr>\n",
       "    <tr>\n",
       "      <th>30</th>\n",
       "      <td>1.75</td>\n",
       "      <td>68.897675</td>\n",
       "    </tr>\n",
       "    <tr>\n",
       "      <th>31</th>\n",
       "      <td>1.85</td>\n",
       "      <td>72.834685</td>\n",
       "    </tr>\n",
       "    <tr>\n",
       "      <th>...</th>\n",
       "      <td>...</td>\n",
       "      <td>...</td>\n",
       "    </tr>\n",
       "    <tr>\n",
       "      <th>131</th>\n",
       "      <td>1.75</td>\n",
       "      <td>68.897675</td>\n",
       "    </tr>\n",
       "    <tr>\n",
       "      <th>132</th>\n",
       "      <td>1.91</td>\n",
       "      <td>75.196891</td>\n",
       "    </tr>\n",
       "    <tr>\n",
       "      <th>133</th>\n",
       "      <td>1.73</td>\n",
       "      <td>68.110273</td>\n",
       "    </tr>\n",
       "    <tr>\n",
       "      <th>134</th>\n",
       "      <td>1.88</td>\n",
       "      <td>74.015788</td>\n",
       "    </tr>\n",
       "    <tr>\n",
       "      <th>135</th>\n",
       "      <td>1.85</td>\n",
       "      <td>72.834685</td>\n",
       "    </tr>\n",
       "    <tr>\n",
       "      <th>137</th>\n",
       "      <td>1.93</td>\n",
       "      <td>75.984293</td>\n",
       "    </tr>\n",
       "    <tr>\n",
       "      <th>138</th>\n",
       "      <td>1.83</td>\n",
       "      <td>72.047283</td>\n",
       "    </tr>\n",
       "    <tr>\n",
       "      <th>139</th>\n",
       "      <td>1.70</td>\n",
       "      <td>66.929170</td>\n",
       "    </tr>\n",
       "    <tr>\n",
       "      <th>140</th>\n",
       "      <td>1.85</td>\n",
       "      <td>72.834685</td>\n",
       "    </tr>\n",
       "    <tr>\n",
       "      <th>141</th>\n",
       "      <td>2.06</td>\n",
       "      <td>81.102406</td>\n",
       "    </tr>\n",
       "    <tr>\n",
       "      <th>142</th>\n",
       "      <td>1.73</td>\n",
       "      <td>68.110273</td>\n",
       "    </tr>\n",
       "    <tr>\n",
       "      <th>143</th>\n",
       "      <td>1.88</td>\n",
       "      <td>74.015788</td>\n",
       "    </tr>\n",
       "    <tr>\n",
       "      <th>144</th>\n",
       "      <td>1.96</td>\n",
       "      <td>77.165396</td>\n",
       "    </tr>\n",
       "    <tr>\n",
       "      <th>145</th>\n",
       "      <td>1.93</td>\n",
       "      <td>75.984293</td>\n",
       "    </tr>\n",
       "    <tr>\n",
       "      <th>146</th>\n",
       "      <td>1.83</td>\n",
       "      <td>72.047283</td>\n",
       "    </tr>\n",
       "    <tr>\n",
       "      <th>147</th>\n",
       "      <td>1.91</td>\n",
       "      <td>75.196891</td>\n",
       "    </tr>\n",
       "    <tr>\n",
       "      <th>148</th>\n",
       "      <td>1.78</td>\n",
       "      <td>70.078778</td>\n",
       "    </tr>\n",
       "    <tr>\n",
       "      <th>150</th>\n",
       "      <td>1.75</td>\n",
       "      <td>68.897675</td>\n",
       "    </tr>\n",
       "    <tr>\n",
       "      <th>151</th>\n",
       "      <td>1.68</td>\n",
       "      <td>66.141768</td>\n",
       "    </tr>\n",
       "    <tr>\n",
       "      <th>152</th>\n",
       "      <td>1.80</td>\n",
       "      <td>70.866180</td>\n",
       "    </tr>\n",
       "    <tr>\n",
       "      <th>153</th>\n",
       "      <td>1.78</td>\n",
       "      <td>70.078778</td>\n",
       "    </tr>\n",
       "    <tr>\n",
       "      <th>154</th>\n",
       "      <td>1.88</td>\n",
       "      <td>74.015788</td>\n",
       "    </tr>\n",
       "    <tr>\n",
       "      <th>155</th>\n",
       "      <td>1.88</td>\n",
       "      <td>74.015788</td>\n",
       "    </tr>\n",
       "    <tr>\n",
       "      <th>156</th>\n",
       "      <td>1.78</td>\n",
       "      <td>70.078778</td>\n",
       "    </tr>\n",
       "    <tr>\n",
       "      <th>157</th>\n",
       "      <td>1.80</td>\n",
       "      <td>70.866180</td>\n",
       "    </tr>\n",
       "    <tr>\n",
       "      <th>158</th>\n",
       "      <td>1.93</td>\n",
       "      <td>75.984293</td>\n",
       "    </tr>\n",
       "    <tr>\n",
       "      <th>159</th>\n",
       "      <td>1.98</td>\n",
       "      <td>77.952798</td>\n",
       "    </tr>\n",
       "    <tr>\n",
       "      <th>160</th>\n",
       "      <td>1.93</td>\n",
       "      <td>75.984293</td>\n",
       "    </tr>\n",
       "    <tr>\n",
       "      <th>161</th>\n",
       "      <td>1.78</td>\n",
       "      <td>70.078778</td>\n",
       "    </tr>\n",
       "    <tr>\n",
       "      <th>162</th>\n",
       "      <td>1.78</td>\n",
       "      <td>70.078778</td>\n",
       "    </tr>\n",
       "  </tbody>\n",
       "</table>\n",
       "<p>152 rows × 2 columns</p>\n",
       "</div>"
      ],
      "text/plain": [
       "     Meters     Inches\n",
       "0      1.70  66.929170\n",
       "1      1.93  75.984293\n",
       "2      1.88  74.015788\n",
       "3      1.78  70.078778\n",
       "4      1.78  70.078778\n",
       "5      1.96  77.165396\n",
       "6      1.78  70.078778\n",
       "7      1.70  66.929170\n",
       "8      1.85  72.834685\n",
       "9      1.70  66.929170\n",
       "10     1.91  75.196891\n",
       "11     1.75  68.897675\n",
       "12     1.91  75.196891\n",
       "14     1.85  72.834685\n",
       "15     1.85  72.834685\n",
       "16     1.96  77.165396\n",
       "17     1.68  66.141768\n",
       "18     1.73  68.110273\n",
       "19     1.73  68.110273\n",
       "20     1.93  75.984293\n",
       "21     1.96  77.165396\n",
       "22     1.93  75.984293\n",
       "23     1.78  70.078778\n",
       "24     1.73  68.110273\n",
       "25     1.80  70.866180\n",
       "27     1.93  75.984293\n",
       "28     1.75  68.897675\n",
       "29     1.85  72.834685\n",
       "30     1.75  68.897675\n",
       "31     1.85  72.834685\n",
       "..      ...        ...\n",
       "131    1.75  68.897675\n",
       "132    1.91  75.196891\n",
       "133    1.73  68.110273\n",
       "134    1.88  74.015788\n",
       "135    1.85  72.834685\n",
       "137    1.93  75.984293\n",
       "138    1.83  72.047283\n",
       "139    1.70  66.929170\n",
       "140    1.85  72.834685\n",
       "141    2.06  81.102406\n",
       "142    1.73  68.110273\n",
       "143    1.88  74.015788\n",
       "144    1.96  77.165396\n",
       "145    1.93  75.984293\n",
       "146    1.83  72.047283\n",
       "147    1.91  75.196891\n",
       "148    1.78  70.078778\n",
       "150    1.75  68.897675\n",
       "151    1.68  66.141768\n",
       "152    1.80  70.866180\n",
       "153    1.78  70.078778\n",
       "154    1.88  74.015788\n",
       "155    1.88  74.015788\n",
       "156    1.78  70.078778\n",
       "157    1.80  70.866180\n",
       "158    1.93  75.984293\n",
       "159    1.98  77.952798\n",
       "160    1.93  75.984293\n",
       "161    1.78  70.078778\n",
       "162    1.78  70.078778\n",
       "\n",
       "[152 rows x 2 columns]"
      ]
     },
     "execution_count": 74,
     "metadata": {},
     "output_type": "execute_result"
    }
   ],
   "source": [
    "df"
   ]
  },
  {
   "cell_type": "code",
   "execution_count": 75,
   "metadata": {},
   "outputs": [
    {
     "data": {
      "text/html": [
       "<div>\n",
       "<style scoped>\n",
       "    .dataframe tbody tr th:only-of-type {\n",
       "        vertical-align: middle;\n",
       "    }\n",
       "\n",
       "    .dataframe tbody tr th {\n",
       "        vertical-align: top;\n",
       "    }\n",
       "\n",
       "    .dataframe thead th {\n",
       "        text-align: right;\n",
       "    }\n",
       "</style>\n",
       "<table border=\"1\" class=\"dataframe\">\n",
       "  <thead>\n",
       "    <tr style=\"text-align: right;\">\n",
       "      <th></th>\n",
       "      <th>Meters</th>\n",
       "      <th>Inches</th>\n",
       "    </tr>\n",
       "  </thead>\n",
       "  <tbody>\n",
       "    <tr>\n",
       "      <th>count</th>\n",
       "      <td>152.000000</td>\n",
       "      <td>152.000000</td>\n",
       "    </tr>\n",
       "    <tr>\n",
       "      <th>mean</th>\n",
       "      <td>1.843553</td>\n",
       "      <td>72.580851</td>\n",
       "    </tr>\n",
       "    <tr>\n",
       "      <th>std</th>\n",
       "      <td>0.090900</td>\n",
       "      <td>3.578738</td>\n",
       "    </tr>\n",
       "    <tr>\n",
       "      <th>min</th>\n",
       "      <td>1.630000</td>\n",
       "      <td>64.173263</td>\n",
       "    </tr>\n",
       "    <tr>\n",
       "      <th>25%</th>\n",
       "      <td>1.780000</td>\n",
       "      <td>70.078778</td>\n",
       "    </tr>\n",
       "    <tr>\n",
       "      <th>50%</th>\n",
       "      <td>1.850000</td>\n",
       "      <td>72.834685</td>\n",
       "    </tr>\n",
       "    <tr>\n",
       "      <th>75%</th>\n",
       "      <td>1.910000</td>\n",
       "      <td>75.196891</td>\n",
       "    </tr>\n",
       "    <tr>\n",
       "      <th>max</th>\n",
       "      <td>2.060000</td>\n",
       "      <td>81.102406</td>\n",
       "    </tr>\n",
       "  </tbody>\n",
       "</table>\n",
       "</div>"
      ],
      "text/plain": [
       "           Meters      Inches\n",
       "count  152.000000  152.000000\n",
       "mean     1.843553   72.580851\n",
       "std      0.090900    3.578738\n",
       "min      1.630000   64.173263\n",
       "25%      1.780000   70.078778\n",
       "50%      1.850000   72.834685\n",
       "75%      1.910000   75.196891\n",
       "max      2.060000   81.102406"
      ]
     },
     "execution_count": 75,
     "metadata": {},
     "output_type": "execute_result"
    }
   ],
   "source": [
    "df = df.reset_index()\n",
    "\n",
    "del df['index']\n",
    "\n",
    "df.describe()"
   ]
  },
  {
   "cell_type": "code",
   "execution_count": 76,
   "metadata": {},
   "outputs": [],
   "source": [
    "df1 = pd.read_csv('all_seasons.csv')"
   ]
  },
  {
   "cell_type": "code",
   "execution_count": 77,
   "metadata": {},
   "outputs": [],
   "source": [
    "Season_2016 = df1.loc[df1['season'] == '2016-17']"
   ]
  },
  {
   "cell_type": "code",
   "execution_count": 78,
   "metadata": {},
   "outputs": [],
   "source": [
    "Season_2016_height = Season_2016['player_height']"
   ]
  },
  {
   "cell_type": "code",
   "execution_count": 79,
   "metadata": {},
   "outputs": [],
   "source": [
    "NBA_Height = pd.DataFrame(Season_2016_height)"
   ]
  },
  {
   "cell_type": "code",
   "execution_count": 80,
   "metadata": {},
   "outputs": [],
   "source": [
    "NBA_Height = NBA_Height.reset_index()\n",
    "\n",
    "del NBA_Height['index']\n",
    "\n",
    "NBA_Height.head()\n",
    "\n",
    "NBA_Height['Inches'] = NBA_Height['player_height'] * 0.393701"
   ]
  },
  {
   "cell_type": "code",
   "execution_count": 81,
   "metadata": {},
   "outputs": [],
   "source": [
    "NBA_Height = NBA_Height.rename(index=str, columns = {'player_height': 'Centimeters'})"
   ]
  },
  {
   "cell_type": "code",
   "execution_count": 82,
   "metadata": {},
   "outputs": [
    {
     "data": {
      "text/html": [
       "<div>\n",
       "<style scoped>\n",
       "    .dataframe tbody tr th:only-of-type {\n",
       "        vertical-align: middle;\n",
       "    }\n",
       "\n",
       "    .dataframe tbody tr th {\n",
       "        vertical-align: top;\n",
       "    }\n",
       "\n",
       "    .dataframe thead th {\n",
       "        text-align: right;\n",
       "    }\n",
       "</style>\n",
       "<table border=\"1\" class=\"dataframe\">\n",
       "  <thead>\n",
       "    <tr style=\"text-align: right;\">\n",
       "      <th></th>\n",
       "      <th>Centimeters</th>\n",
       "      <th>Inches</th>\n",
       "    </tr>\n",
       "  </thead>\n",
       "  <tbody>\n",
       "    <tr>\n",
       "      <th>count</th>\n",
       "      <td>486.000000</td>\n",
       "      <td>486.000000</td>\n",
       "    </tr>\n",
       "    <tr>\n",
       "      <th>mean</th>\n",
       "      <td>200.910864</td>\n",
       "      <td>79.098808</td>\n",
       "    </tr>\n",
       "    <tr>\n",
       "      <th>std</th>\n",
       "      <td>8.901969</td>\n",
       "      <td>3.504714</td>\n",
       "    </tr>\n",
       "    <tr>\n",
       "      <th>min</th>\n",
       "      <td>175.260000</td>\n",
       "      <td>69.000037</td>\n",
       "    </tr>\n",
       "    <tr>\n",
       "      <th>25%</th>\n",
       "      <td>195.580000</td>\n",
       "      <td>77.000042</td>\n",
       "    </tr>\n",
       "    <tr>\n",
       "      <th>50%</th>\n",
       "      <td>200.660000</td>\n",
       "      <td>79.000043</td>\n",
       "    </tr>\n",
       "    <tr>\n",
       "      <th>75%</th>\n",
       "      <td>208.280000</td>\n",
       "      <td>82.000044</td>\n",
       "    </tr>\n",
       "    <tr>\n",
       "      <th>max</th>\n",
       "      <td>220.980000</td>\n",
       "      <td>87.000047</td>\n",
       "    </tr>\n",
       "  </tbody>\n",
       "</table>\n",
       "</div>"
      ],
      "text/plain": [
       "       Centimeters      Inches\n",
       "count   486.000000  486.000000\n",
       "mean    200.910864   79.098808\n",
       "std       8.901969    3.504714\n",
       "min     175.260000   69.000037\n",
       "25%     195.580000   77.000042\n",
       "50%     200.660000   79.000043\n",
       "75%     208.280000   82.000044\n",
       "max     220.980000   87.000047"
      ]
     },
     "execution_count": 82,
     "metadata": {},
     "output_type": "execute_result"
    }
   ],
   "source": [
    "NBA_Height.describe()"
   ]
  },
  {
   "cell_type": "code",
   "execution_count": 83,
   "metadata": {},
   "outputs": [
    {
     "data": {
      "text/html": [
       "<div>\n",
       "<style scoped>\n",
       "    .dataframe tbody tr th:only-of-type {\n",
       "        vertical-align: middle;\n",
       "    }\n",
       "\n",
       "    .dataframe tbody tr th {\n",
       "        vertical-align: top;\n",
       "    }\n",
       "\n",
       "    .dataframe thead th {\n",
       "        text-align: right;\n",
       "    }\n",
       "</style>\n",
       "<table border=\"1\" class=\"dataframe\">\n",
       "  <thead>\n",
       "    <tr style=\"text-align: right;\">\n",
       "      <th></th>\n",
       "      <th>Meters</th>\n",
       "      <th>Inches</th>\n",
       "    </tr>\n",
       "  </thead>\n",
       "  <tbody>\n",
       "    <tr>\n",
       "      <th>count</th>\n",
       "      <td>152.000000</td>\n",
       "      <td>152.000000</td>\n",
       "    </tr>\n",
       "    <tr>\n",
       "      <th>mean</th>\n",
       "      <td>1.843553</td>\n",
       "      <td>72.580851</td>\n",
       "    </tr>\n",
       "    <tr>\n",
       "      <th>std</th>\n",
       "      <td>0.090900</td>\n",
       "      <td>3.578738</td>\n",
       "    </tr>\n",
       "    <tr>\n",
       "      <th>min</th>\n",
       "      <td>1.630000</td>\n",
       "      <td>64.173263</td>\n",
       "    </tr>\n",
       "    <tr>\n",
       "      <th>25%</th>\n",
       "      <td>1.780000</td>\n",
       "      <td>70.078778</td>\n",
       "    </tr>\n",
       "    <tr>\n",
       "      <th>50%</th>\n",
       "      <td>1.850000</td>\n",
       "      <td>72.834685</td>\n",
       "    </tr>\n",
       "    <tr>\n",
       "      <th>75%</th>\n",
       "      <td>1.910000</td>\n",
       "      <td>75.196891</td>\n",
       "    </tr>\n",
       "    <tr>\n",
       "      <th>max</th>\n",
       "      <td>2.060000</td>\n",
       "      <td>81.102406</td>\n",
       "    </tr>\n",
       "  </tbody>\n",
       "</table>\n",
       "</div>"
      ],
      "text/plain": [
       "           Meters      Inches\n",
       "count  152.000000  152.000000\n",
       "mean     1.843553   72.580851\n",
       "std      0.090900    3.578738\n",
       "min      1.630000   64.173263\n",
       "25%      1.780000   70.078778\n",
       "50%      1.850000   72.834685\n",
       "75%      1.910000   75.196891\n",
       "max      2.060000   81.102406"
      ]
     },
     "execution_count": 83,
     "metadata": {},
     "output_type": "execute_result"
    }
   ],
   "source": [
    "df.describe()"
   ]
  },
  {
   "cell_type": "code",
   "execution_count": 84,
   "metadata": {},
   "outputs": [],
   "source": [
    "WNBA_jump = (1.33*df['Inches'].mean())+19"
   ]
  },
  {
   "cell_type": "code",
   "execution_count": 85,
   "metadata": {},
   "outputs": [],
   "source": [
    "NBA_jump = (1.33*NBA_Height['Inches'].mean()) + 28.1"
   ]
  },
  {
   "cell_type": "code",
   "execution_count": 86,
   "metadata": {},
   "outputs": [
    {
     "name": "stdout",
     "output_type": "stream",
     "text": [
      "115.53253244249998\n",
      "133.30141483342507\n"
     ]
    }
   ],
   "source": [
    "print(WNBA_jump)\n",
    "print(NBA_jump)"
   ]
  },
  {
   "cell_type": "code",
   "execution_count": 87,
   "metadata": {},
   "outputs": [],
   "source": [
    "WNBA_rim = (WNBA_jump*120)/NBA_jump"
   ]
  },
  {
   "cell_type": "code",
   "execution_count": 88,
   "metadata": {},
   "outputs": [],
   "source": [
    "NBA_equivalent_rim = (NBA_jump*120)/WNBA_jump"
   ]
  },
  {
   "cell_type": "code",
   "execution_count": 89,
   "metadata": {},
   "outputs": [
    {
     "name": "stdout",
     "output_type": "stream",
     "text": [
      "104.00417662801618\n",
      "138.45597808541268\n"
     ]
    }
   ],
   "source": [
    "print(WNBA_rim)\n",
    "print(NBA_equivalent_rim)"
   ]
  },
  {
   "cell_type": "code",
   "execution_count": 90,
   "metadata": {},
   "outputs": [
    {
     "data": {
      "image/png": "[encoded data removed]",
      "text/plain": [
       "<Figure size 432x288 with 1 Axes>"
      ]
     },
     "metadata": {
      "needs_background": "light"
     },
     "output_type": "display_data"
    }
   ],
   "source": [
    "sns.distplot(df['Inches'], color=\"skyblue\", label=\"WNBA Height\")\n",
    "sns.distplot(NBA_Height['Inches'], color=\"red\", label=\"NBA Height\")\n",
    "sns.set(rc={'figure.figsize':(15,12)})\n",
    "plt.legend()\n",
    "plt.show()"
   ]
  },
  {
   "cell_type": "code",
   "execution_count": 91,
   "metadata": {},
   "outputs": [
    {
     "data": {
      "image/png": "[encoded data removed]",
      "text/plain": [
       "<Figure size 720x576 with 2 Axes>"
      ]
     },
     "metadata": {},
     "output_type": "display_data"
    }
   ],
   "source": [
    "import scipy.stats as stats\n",
    "import matplotlib.pyplot as plt\n",
    "import seaborn as sns\n",
    "# Create two vertical subplots sharing 15% and 85% of plot space\n",
    "# sharex allows sharing of axes i.e. building multiple plots on same axes\n",
    "fig, (ax, ax2) = plt.subplots(2, sharex=True, gridspec_kw={\"height_ratios\": (.15, .85)}, figsize = (10,8) )\n",
    "\n",
    "sns.distplot(df.Inches, \n",
    "             hist=True, hist_kws={\n",
    "                                  \"linewidth\": 2,\n",
    "                                  \"edgecolor\" :'red',\n",
    "                                  \"alpha\": 0.4, \n",
    "                                  \"color\":  \"w\",\n",
    "                                  \"label\": \"WNBA Players's Height\",\n",
    "                                  },\n",
    "             ax=ax2)\n",
    "ax2.set_title('WNBA Player Height')\n",
    "\n",
    "ax2.set(ylim=(0, .08))\n",
    "plt.ylim(0,0.13)\n",
    "plt.legend();"
   ]
  },
  {
   "cell_type": "code",
   "execution_count": 92,
   "metadata": {},
   "outputs": [
    {
     "data": {
      "image/png": "[encoded data removed]",
      "text/plain": [
       "<Figure size 720x576 with 2 Axes>"
      ]
     },
     "metadata": {},
     "output_type": "display_data"
    }
   ],
   "source": [
    "fig, (ax, ax2) = plt.subplots(2, sharex=True, gridspec_kw={\"height_ratios\": (.15, .85)}, figsize = (10,8) )\n",
    "\n",
    "sns.distplot(NBA_Height.Inches, \n",
    "             hist=True, hist_kws={\n",
    "                                  \"linewidth\": 2,\n",
    "                                  \"edgecolor\" :'red',\n",
    "                                  \"alpha\": 0.4, \n",
    "                                  \"color\":  \"w\",\n",
    "                                  \"label\": \"NBA Player's Height\",\n",
    "                                  },\n",
    "             ax=ax2)\n",
    "ax2.set_title('NBA Player Height')\n",
    "\n",
    "ax2.set(ylim=(0, .08))\n",
    "plt.ylim(0,0.19)\n",
    "plt.legend();"
   ]
  },
  {
   "cell_type": "code",
   "execution_count": 93,
   "metadata": {},
   "outputs": [],
   "source": [
    "url1 = 'https://www.basketball-reference.com/leagues/NBA_2019.html'\n",
    "\n",
    "response1 = requests.get(url1)\n",
    "\n",
    "soup1 = BeautifulSoup(response1.text,'html.parser')"
   ]
  },
  {
   "cell_type": "code",
   "execution_count": 94,
   "metadata": {},
   "outputs": [],
   "source": [
    "Three_Pts = soup1.text"
   ]
  },
  {
   "cell_type": "code",
   "execution_count": 95,
   "metadata": {},
   "outputs": [],
   "source": [
    "body = re.compile(r'data=sta\"fg3a\">d+<')"
   ]
  },
  {
   "cell_type": "code",
   "execution_count": 96,
   "metadata": {},
   "outputs": [],
   "source": [
    "import numpy as np"
   ]
  },
  {
   "cell_type": "code",
   "execution_count": 97,
   "metadata": {},
   "outputs": [],
   "source": [
    "X = np.array([3034, 2829, 2965, 2783, 2123, 2388, 3002, 2571, 2854, 2824, 3721, 2081, 2118, 2541, 2368, 2658, 3134, 2357, 2449, 2421, 2677, 2633, 2474, 2400, 2520, 2455, 2071, 2771, 2789, 2731], dtype=np.float64)\n",
    "\n"
   ]
  },
  {
   "cell_type": "code",
   "execution_count": 98,
   "metadata": {},
   "outputs": [
    {
     "data": {
      "text/plain": [
       "30"
      ]
     },
     "execution_count": 98,
     "metadata": {},
     "output_type": "execute_result"
    }
   ],
   "source": [
    "len(X)"
   ]
  },
  {
   "cell_type": "code",
   "execution_count": 99,
   "metadata": {},
   "outputs": [],
   "source": [
    "Y = np.array([528, 337, 326, 264, 340, 248, 428, 348, 277, 504, 392, 224, 408, 572, 274, 437, 488, 319, 379, 315, 459, 353, 412, 434, 383, 437, 186, 294, 573, 454], dtype=np.float64)\n",
    "\n"
   ]
  },
  {
   "cell_type": "code",
   "execution_count": 100,
   "metadata": {},
   "outputs": [
    {
     "data": {
      "text/plain": [
       "30"
      ]
     },
     "execution_count": 100,
     "metadata": {},
     "output_type": "execute_result"
    }
   ],
   "source": [
    "len(Y)"
   ]
  },
  {
   "cell_type": "code",
   "execution_count": 101,
   "metadata": {},
   "outputs": [
    {
     "data": {
      "image/png": "[encoded data removed]",
      "text/plain": [
       "<Figure size 1080x864 with 1 Axes>"
      ]
     },
     "metadata": {},
     "output_type": "display_data"
    }
   ],
   "source": [
    "plt.scatter(X,Y)\n",
    "plt.xlabel('3-Point Attempts')\n",
    "plt.ylabel('Dunks Made')\n",
    "plt.show()"
   ]
  },
  {
   "cell_type": "code",
   "execution_count": 102,
   "metadata": {},
   "outputs": [
    {
     "data": {
      "text/plain": [
       "0.10535584481334682"
      ]
     },
     "execution_count": 102,
     "metadata": {},
     "output_type": "execute_result"
    }
   ],
   "source": [
    "def calc_slope(xs,ys):\n",
    "    \n",
    "    m = (np.mean(xs) * np.mean(ys) - np.mean(xs*ys)) / ((np.mean(xs)**2) - np.mean(xs*xs))\n",
    "    \n",
    "    return m\n",
    "\n",
    "calc_slope(X,Y)"
   ]
  },
  {
   "cell_type": "code",
   "execution_count": 103,
   "metadata": {},
   "outputs": [
    {
     "data": {
      "text/plain": [
       "(0.10535584481334682, 103.2356689235815)"
      ]
     },
     "execution_count": 103,
     "metadata": {},
     "output_type": "execute_result"
    }
   ],
   "source": [
    "def best_fit(xs,ys):\n",
    "    \n",
    "    m = calc_slope(xs, ys)\n",
    "    c = np.mean(ys) - m*np.mean(xs)\n",
    "    \n",
    "    return m, c\n",
    "\n",
    "\n",
    "m, c = best_fit(X,Y)\n",
    "m, c"
   ]
  },
  {
   "cell_type": "code",
   "execution_count": 104,
   "metadata": {},
   "outputs": [],
   "source": [
    "def reg_line (m, c, xs):\n",
    "    \n",
    "    return [(m*x)+c for x in xs]\n",
    "\n",
    "regression_line = reg_line(m,c,X)"
   ]
  },
  {
   "cell_type": "code",
   "execution_count": 105,
   "metadata": {},
   "outputs": [],
   "source": [
    "from matplotlib.pyplot import figure"
   ]
  },
  {
   "cell_type": "code",
   "execution_count": 106,
   "metadata": {},
   "outputs": [
    {
     "data": {
      "text/plain": [
       "<Figure size 160x80 with 0 Axes>"
      ]
     },
     "execution_count": 106,
     "metadata": {},
     "output_type": "execute_result"
    },
    {
     "data": {
      "text/plain": [
       "<Figure size 160x80 with 0 Axes>"
      ]
     },
     "metadata": {},
     "output_type": "display_data"
    }
   ],
   "source": [
    "figure(num=None, figsize=(2,1), dpi=80, facecolor='w', edgecolor='k')"
   ]
  },
  {
   "cell_type": "code",
   "execution_count": 110,
   "metadata": {},
   "outputs": [
    {
     "data": {
      "image/png": "[encoded data removed]",
      "text/plain": [
       "<Figure size 1080x864 with 1 Axes>"
      ]
     },
     "metadata": {},
     "output_type": "display_data"
    }
   ],
   "source": [
    "plt.scatter(X,Y,color='#003F72', label=\"Data points\")\n",
    "plt.plot(X, regression_line, label= \"Regression Line\")\n",
    "plt.legend()\n",
    "plt.xlabel('3-Point Attempts')\n",
    "plt.ylabel('Dunks Made')\n",
    "plt.title('NBA 2018-2019 Team Stats')\n",
    "plt.show()"
   ]
  },
  {
   "cell_type": "code",
   "execution_count": 111,
   "metadata": {},
   "outputs": [
    {
     "data": {
      "text/plain": [
       "array([[1.        , 0.37386304],\n",
       "       [0.37386304, 1.        ]])"
      ]
     },
     "execution_count": 111,
     "metadata": {},
     "output_type": "execute_result"
    }
   ],
   "source": [
    "np.corrcoef(X,Y)"
   ]
  },
  {
   "cell_type": "code",
   "execution_count": 112,
   "metadata": {},
   "outputs": [],
   "source": [
    "BG = pd.DataFrame(X)"
   ]
  },
  {
   "cell_type": "code",
   "execution_count": 113,
   "metadata": {},
   "outputs": [],
   "source": [
    "BG[1] = Y"
   ]
  },
  {
   "cell_type": "code",
   "execution_count": 114,
   "metadata": {},
   "outputs": [
    {
     "data": {
      "text/html": [
       "<div>\n",
       "<style scoped>\n",
       "    .dataframe tbody tr th:only-of-type {\n",
       "        vertical-align: middle;\n",
       "    }\n",
       "\n",
       "    .dataframe tbody tr th {\n",
       "        vertical-align: top;\n",
       "    }\n",
       "\n",
       "    .dataframe thead th {\n",
       "        text-align: right;\n",
       "    }\n",
       "</style>\n",
       "<table border=\"1\" class=\"dataframe\">\n",
       "  <thead>\n",
       "    <tr style=\"text-align: right;\">\n",
       "      <th></th>\n",
       "      <th>0</th>\n",
       "      <th>1</th>\n",
       "    </tr>\n",
       "  </thead>\n",
       "  <tbody>\n",
       "    <tr>\n",
       "      <th>0</th>\n",
       "      <td>1.000000</td>\n",
       "      <td>0.373863</td>\n",
       "    </tr>\n",
       "    <tr>\n",
       "      <th>1</th>\n",
       "      <td>0.373863</td>\n",
       "      <td>1.000000</td>\n",
       "    </tr>\n",
       "  </tbody>\n",
       "</table>\n",
       "</div>"
      ],
      "text/plain": [
       "          0         1\n",
       "0  1.000000  0.373863\n",
       "1  0.373863  1.000000"
      ]
     },
     "execution_count": 114,
     "metadata": {},
     "output_type": "execute_result"
    }
   ],
   "source": [
    "BG.corr()"
   ]
  },
  {
   "cell_type": "code",
   "execution_count": 115,
   "metadata": {},
   "outputs": [
    {
     "data": {
      "text/plain": [
       "(0.37386303991338127, 0.041831289025583536)"
      ]
     },
     "execution_count": 115,
     "metadata": {},
     "output_type": "execute_result"
    }
   ],
   "source": [
    "import scipy\n",
    "\n",
    "scipy.stats.pearsonr(BG[0], BG[1])"
   ]
  },
  {
   "cell_type": "code",
   "execution_count": 116,
   "metadata": {},
   "outputs": [],
   "source": [
    "B = np.array([3034, 2829, 2965, 2783, 2123, 2388, 3002, 2571, 2854, 2824, 2081, 2118, 2541, 2368, 2658, 3134, 2357, 2449, 2421, 2677, 2633, 2474, 2400, 2520, 2455, 2071, 2771, 2789, 2731], dtype=np.float64)\n",
    "G = np.array([528, 337, 326, 264, 340, 248, 428, 348, 277, 504, 224, 408, 572, 274, 437, 488, 319, 379, 315, 459, 353, 412, 434, 383, 437, 186, 294, 573, 454], dtype=np.float64)\n",
    "\n",
    "\n"
   ]
  },
  {
   "cell_type": "code",
   "execution_count": null,
   "metadata": {},
   "outputs": [],
   "source": []
  },
  {
   "cell_type": "code",
   "execution_count": 117,
   "metadata": {},
   "outputs": [
    {
     "data": {
      "image/png": "[encoded data removed]",
      "text/plain": [
       "<Figure size 1080x864 with 1 Axes>"
      ]
     },
     "metadata": {},
     "output_type": "display_data"
    }
   ],
   "source": [
    "l, n = best_fit(B,G)\n",
    "regression_line1 = reg_line(l,n,B)\n",
    "plt.scatter(B,G,color='#003F72', label=\"Data points\")\n",
    "plt.plot(B, regression_line1, label= \"Regression Line\")\n",
    "plt.legend()\n",
    "plt.xlabel('3-Point Attempts')\n",
    "plt.ylabel('Dunks Made')\n",
    "plt.show()"
   ]
  },
  {
   "cell_type": "code",
   "execution_count": 118,
   "metadata": {},
   "outputs": [
    {
     "data": {
      "text/plain": [
       "array([[1.        , 0.44503396],\n",
       "       [0.44503396, 1.        ]])"
      ]
     },
     "execution_count": 118,
     "metadata": {},
     "output_type": "execute_result"
    }
   ],
   "source": [
    "np.corrcoef(B,G)"
   ]
  },
  {
   "cell_type": "code",
   "execution_count": 119,
   "metadata": {},
   "outputs": [],
   "source": [
    "No_Rockets = pd.DataFrame(B)\n",
    "\n",
    "No_Rockets[1] = G"
   ]
  },
  {
   "cell_type": "code",
   "execution_count": 120,
   "metadata": {},
   "outputs": [
    {
     "data": {
      "text/html": [
       "<div>\n",
       "<style scoped>\n",
       "    .dataframe tbody tr th:only-of-type {\n",
       "        vertical-align: middle;\n",
       "    }\n",
       "\n",
       "    .dataframe tbody tr th {\n",
       "        vertical-align: top;\n",
       "    }\n",
       "\n",
       "    .dataframe thead th {\n",
       "        text-align: right;\n",
       "    }\n",
       "</style>\n",
       "<table border=\"1\" class=\"dataframe\">\n",
       "  <thead>\n",
       "    <tr style=\"text-align: right;\">\n",
       "      <th></th>\n",
       "      <th>0</th>\n",
       "      <th>1</th>\n",
       "    </tr>\n",
       "  </thead>\n",
       "  <tbody>\n",
       "    <tr>\n",
       "      <th>0</th>\n",
       "      <td>1.000000</td>\n",
       "      <td>0.445034</td>\n",
       "    </tr>\n",
       "    <tr>\n",
       "      <th>1</th>\n",
       "      <td>0.445034</td>\n",
       "      <td>1.000000</td>\n",
       "    </tr>\n",
       "  </tbody>\n",
       "</table>\n",
       "</div>"
      ],
      "text/plain": [
       "          0         1\n",
       "0  1.000000  0.445034\n",
       "1  0.445034  1.000000"
      ]
     },
     "execution_count": 120,
     "metadata": {},
     "output_type": "execute_result"
    }
   ],
   "source": [
    "No_Rockets.corr()"
   ]
  },
  {
   "cell_type": "code",
   "execution_count": 125,
   "metadata": {},
   "outputs": [
    {
     "data": {
      "text/plain": [
       "(0.4450339647253483, 0.015559103837091994)"
      ]
     },
     "execution_count": 125,
     "metadata": {},
     "output_type": "execute_result"
    }
   ],
   "source": [
    "scipy.stats.pearsonr(No_Rockets[0], No_Rockets[1])"
   ]
  },
  {
   "cell_type": "code",
   "execution_count": null,
   "metadata": {},
   "outputs": [],
   "source": []
  }
 ],
 "metadata": {
  "kernelspec": {
   "display_name": "Python 3",
   "language": "python",
   "name": "python3"
  },
  "language_info": {
   "codemirror_mode": {
    "name": "ipython",
    "version": 3
   },
   "file_extension": ".py",
   "mimetype": "text/x-python",
   "name": "python",
   "nbconvert_exporter": "python",
   "pygments_lexer": "ipython3",
   "version": "3.7.3"
  }
 },
 "nbformat": 4,
 "nbformat_minor": 2
}
